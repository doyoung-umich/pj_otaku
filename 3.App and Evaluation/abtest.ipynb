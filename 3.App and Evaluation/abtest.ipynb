{
 "cells": [
  {
   "cell_type": "markdown",
   "id": "1b871fbb-0b11-4e22-a1aa-7699cbb2298f",
   "metadata": {},
   "source": [
    "# AB test"
   ]
  },
  {
   "cell_type": "code",
   "execution_count": 3,
   "id": "fe9ede14-d63c-4e8c-95c1-a6b55e7ce3a4",
   "metadata": {},
   "outputs": [],
   "source": [
    "# pip install firebase_admin"
   ]
  },
  {
   "cell_type": "code",
   "execution_count": 5,
   "id": "eae79e54-891c-4969-804b-9d4e5ee28d18",
   "metadata": {},
   "outputs": [
    {
     "data": {
      "text/plain": [
       "<firebase_admin.App at 0x7fadf01f33d0>"
      ]
     },
     "execution_count": 5,
     "metadata": {},
     "output_type": "execute_result"
    }
   ],
   "source": [
    "import json\n",
    "import pandas as pd\n",
    "import firebase_admin\n",
    "from firebase_admin import credentials\n",
    "from firebase_admin import db\n",
    "\n",
    "cred = credentials.Certificate('../../.Import/project-otaku.json')\n",
    "f = open('../../.Import/dburl.json')\n",
    "dburl = json.load(f)\n",
    "f.close()\n",
    "\n",
    "firebase_admin.initialize_app(cred, dburl)"
   ]
  },
  {
   "cell_type": "markdown",
   "id": "6f566169-c8dd-4e29-97dd-7b75a2d84fb7",
   "metadata": {},
   "source": [
    "### Check collected Data"
   ]
  },
  {
   "cell_type": "code",
   "execution_count": 6,
   "id": "17949f90-0337-4e3c-a3a5-da77cdc46932",
   "metadata": {},
   "outputs": [
    {
     "data": {
      "text/html": [
       "<div>\n",
       "<style scoped>\n",
       "    .dataframe tbody tr th:only-of-type {\n",
       "        vertical-align: middle;\n",
       "    }\n",
       "\n",
       "    .dataframe tbody tr th {\n",
       "        vertical-align: top;\n",
       "    }\n",
       "\n",
       "    .dataframe thead th {\n",
       "        text-align: right;\n",
       "    }\n",
       "</style>\n",
       "<table border=\"1\" class=\"dataframe\">\n",
       "  <thead>\n",
       "    <tr style=\"text-align: right;\">\n",
       "      <th></th>\n",
       "      <th>abtest_id</th>\n",
       "      <th>session_id</th>\n",
       "      <th>timestamp</th>\n",
       "    </tr>\n",
       "  </thead>\n",
       "  <tbody>\n",
       "    <tr>\n",
       "      <th>-N8H0jwvEEoLjRdbDGsT</th>\n",
       "      <td>0</td>\n",
       "      <td>343</td>\n",
       "      <td>2022-07-31 02:12:46.512012</td>\n",
       "    </tr>\n",
       "    <tr>\n",
       "      <th>-N8HTpKDD--cNiGVZ3Js</th>\n",
       "      <td>1</td>\n",
       "      <td>344</td>\n",
       "      <td>2022-07-31 04:19:50.723285</td>\n",
       "    </tr>\n",
       "    <tr>\n",
       "      <th>-N8JiKVwR12WnGrh-7oH</th>\n",
       "      <td>1</td>\n",
       "      <td>345</td>\n",
       "      <td>2022-07-31 14:46:49.079537</td>\n",
       "    </tr>\n",
       "    <tr>\n",
       "      <th>-N8JiYQqJz3wbFlfowZ-</th>\n",
       "      <td>0</td>\n",
       "      <td>347</td>\n",
       "      <td>2022-07-31 14:47:46.061073</td>\n",
       "    </tr>\n",
       "    <tr>\n",
       "      <th>-N8OgRDK83OLc6tp-smo</th>\n",
       "      <td>0</td>\n",
       "      <td>348</td>\n",
       "      <td>2022-08-01 13:56:38.396319</td>\n",
       "    </tr>\n",
       "  </tbody>\n",
       "</table>\n",
       "</div>"
      ],
      "text/plain": [
       "                     abtest_id session_id                   timestamp\n",
       "-N8H0jwvEEoLjRdbDGsT         0        343  2022-07-31 02:12:46.512012\n",
       "-N8HTpKDD--cNiGVZ3Js         1        344  2022-07-31 04:19:50.723285\n",
       "-N8JiKVwR12WnGrh-7oH         1        345  2022-07-31 14:46:49.079537\n",
       "-N8JiYQqJz3wbFlfowZ-         0        347  2022-07-31 14:47:46.061073\n",
       "-N8OgRDK83OLc6tp-smo         0        348  2022-08-01 13:56:38.396319"
      ]
     },
     "metadata": {},
     "output_type": "display_data"
    },
    {
     "data": {
      "text/html": [
       "<div>\n",
       "<style scoped>\n",
       "    .dataframe tbody tr th:only-of-type {\n",
       "        vertical-align: middle;\n",
       "    }\n",
       "\n",
       "    .dataframe tbody tr th {\n",
       "        vertical-align: top;\n",
       "    }\n",
       "\n",
       "    .dataframe thead th {\n",
       "        text-align: right;\n",
       "    }\n",
       "</style>\n",
       "<table border=\"1\" class=\"dataframe\">\n",
       "  <thead>\n",
       "    <tr style=\"text-align: right;\">\n",
       "      <th></th>\n",
       "      <th>query</th>\n",
       "      <th>session_id</th>\n",
       "      <th>timestamp</th>\n",
       "    </tr>\n",
       "  </thead>\n",
       "  <tbody>\n",
       "    <tr>\n",
       "      <th>-N8HU1R-IjzuowCnR99G</th>\n",
       "      <td>30012</td>\n",
       "      <td>344</td>\n",
       "      <td>2022-07-31 04:20:44.387100</td>\n",
       "    </tr>\n",
       "    <tr>\n",
       "      <th>-N8HUVm-9RIVDp-YSEGs</th>\n",
       "      <td>30336</td>\n",
       "      <td>344</td>\n",
       "      <td>2022-07-31 04:22:48.673933</td>\n",
       "    </tr>\n",
       "    <tr>\n",
       "      <th>-N8JimgMQiYTC-y1uwoA</th>\n",
       "      <td>5114</td>\n",
       "      <td>347</td>\n",
       "      <td>2022-07-31 14:48:48.569632</td>\n",
       "    </tr>\n",
       "    <tr>\n",
       "      <th>-N8OgXSsC0CSuQNTL-rP</th>\n",
       "      <td>30002</td>\n",
       "      <td>348</td>\n",
       "      <td>2022-08-01 13:57:03.976834</td>\n",
       "    </tr>\n",
       "    <tr>\n",
       "      <th>-N8Ogb47cGf_d_Id-IC8</th>\n",
       "      <td>30051</td>\n",
       "      <td>348</td>\n",
       "      <td>2022-08-01 13:57:22.858340</td>\n",
       "    </tr>\n",
       "  </tbody>\n",
       "</table>\n",
       "</div>"
      ],
      "text/plain": [
       "                      query session_id                   timestamp\n",
       "-N8HU1R-IjzuowCnR99G  30012        344  2022-07-31 04:20:44.387100\n",
       "-N8HUVm-9RIVDp-YSEGs  30336        344  2022-07-31 04:22:48.673933\n",
       "-N8JimgMQiYTC-y1uwoA   5114        347  2022-07-31 14:48:48.569632\n",
       "-N8OgXSsC0CSuQNTL-rP  30002        348  2022-08-01 13:57:03.976834\n",
       "-N8Ogb47cGf_d_Id-IC8  30051        348  2022-08-01 13:57:22.858340"
      ]
     },
     "metadata": {},
     "output_type": "display_data"
    },
    {
     "data": {
      "text/html": [
       "<div>\n",
       "<style scoped>\n",
       "    .dataframe tbody tr th:only-of-type {\n",
       "        vertical-align: middle;\n",
       "    }\n",
       "\n",
       "    .dataframe tbody tr th {\n",
       "        vertical-align: top;\n",
       "    }\n",
       "\n",
       "    .dataframe thead th {\n",
       "        text-align: right;\n",
       "    }\n",
       "</style>\n",
       "<table border=\"1\" class=\"dataframe\">\n",
       "  <thead>\n",
       "    <tr style=\"text-align: right;\">\n",
       "      <th></th>\n",
       "      <th>abtest_id</th>\n",
       "      <th>relevant_index</th>\n",
       "      <th>session_id</th>\n",
       "      <th>timestamp</th>\n",
       "      <th>title_id</th>\n",
       "    </tr>\n",
       "  </thead>\n",
       "  <tbody>\n",
       "    <tr>\n",
       "      <th>-N8HURmfpm7Lt0tb2zTp</th>\n",
       "      <td>1</td>\n",
       "      <td>47</td>\n",
       "      <td>344</td>\n",
       "      <td>2022-07-31 04:22:32.319278</td>\n",
       "      <td>30022</td>\n",
       "    </tr>\n",
       "    <tr>\n",
       "      <th>-N8HUXcXuLdO63t1_xy5</th>\n",
       "      <td>1</td>\n",
       "      <td>4</td>\n",
       "      <td>344</td>\n",
       "      <td>2022-07-31 04:22:56.276033</td>\n",
       "      <td>30047</td>\n",
       "    </tr>\n",
       "    <tr>\n",
       "      <th>-N8HUYU8qRUATcgowCpe</th>\n",
       "      <td>1</td>\n",
       "      <td>6</td>\n",
       "      <td>344</td>\n",
       "      <td>2022-07-31 04:22:59.758970</td>\n",
       "      <td>30021</td>\n",
       "    </tr>\n",
       "    <tr>\n",
       "      <th>-N8HU_9Ie444j4FCCOJh</th>\n",
       "      <td>1</td>\n",
       "      <td>12</td>\n",
       "      <td>344</td>\n",
       "      <td>2022-07-31 04:23:06.629802</td>\n",
       "      <td>30051</td>\n",
       "    </tr>\n",
       "    <tr>\n",
       "      <th>-N8Ogp26a_Tb2J4B0op7</th>\n",
       "      <td>0</td>\n",
       "      <td>2</td>\n",
       "      <td>348</td>\n",
       "      <td>2022-08-01 13:58:20.068129</td>\n",
       "      <td>33367</td>\n",
       "    </tr>\n",
       "  </tbody>\n",
       "</table>\n",
       "</div>"
      ],
      "text/plain": [
       "                     abtest_id relevant_index session_id  \\\n",
       "-N8HURmfpm7Lt0tb2zTp         1             47        344   \n",
       "-N8HUXcXuLdO63t1_xy5         1              4        344   \n",
       "-N8HUYU8qRUATcgowCpe         1              6        344   \n",
       "-N8HU_9Ie444j4FCCOJh         1             12        344   \n",
       "-N8Ogp26a_Tb2J4B0op7         0              2        348   \n",
       "\n",
       "                                       timestamp title_id  \n",
       "-N8HURmfpm7Lt0tb2zTp  2022-07-31 04:22:32.319278    30022  \n",
       "-N8HUXcXuLdO63t1_xy5  2022-07-31 04:22:56.276033    30047  \n",
       "-N8HUYU8qRUATcgowCpe  2022-07-31 04:22:59.758970    30021  \n",
       "-N8HU_9Ie444j4FCCOJh  2022-07-31 04:23:06.629802    30051  \n",
       "-N8Ogp26a_Tb2J4B0op7  2022-08-01 13:58:20.068129    33367  "
      ]
     },
     "metadata": {},
     "output_type": "display_data"
    }
   ],
   "source": [
    "dbdir = db.reference('user_sessions')\n",
    "display(pd.DataFrame(dbdir.get()).T.tail())\n",
    "\n",
    "dbdir = db.reference('query')\n",
    "display(pd.DataFrame(dbdir.get()).T.tail())\n",
    "\n",
    "dbdir = db.reference('test')\n",
    "display(pd.DataFrame(dbdir.get()).T.tail())"
   ]
  },
  {
   "cell_type": "markdown",
   "id": "052efcb6-3987-4440-9747-23b19c3dcc56",
   "metadata": {},
   "source": [
    "### Calculating mAP from user click data"
   ]
  },
  {
   "cell_type": "code",
   "execution_count": 7,
   "id": "d6af7486-795d-4f8e-8201-919c37e1be7d",
   "metadata": {},
   "outputs": [
    {
     "data": {
      "text/html": [
       "<div>\n",
       "<style scoped>\n",
       "    .dataframe tbody tr th:only-of-type {\n",
       "        vertical-align: middle;\n",
       "    }\n",
       "\n",
       "    .dataframe tbody tr th {\n",
       "        vertical-align: top;\n",
       "    }\n",
       "\n",
       "    .dataframe thead th {\n",
       "        text-align: right;\n",
       "    }\n",
       "</style>\n",
       "<table border=\"1\" class=\"dataframe\">\n",
       "  <thead>\n",
       "    <tr style=\"text-align: right;\">\n",
       "      <th></th>\n",
       "      <th>abtest_id</th>\n",
       "      <th>relevant_index</th>\n",
       "      <th>session_id</th>\n",
       "      <th>timestamp</th>\n",
       "      <th>title_id</th>\n",
       "    </tr>\n",
       "  </thead>\n",
       "  <tbody>\n",
       "    <tr>\n",
       "      <th>-N86SI9L8LuEuO49sWqt</th>\n",
       "      <td>0</td>\n",
       "      <td>1</td>\n",
       "      <td>291</td>\n",
       "      <td>2022-07-29 00:57:19.240547</td>\n",
       "      <td>21730</td>\n",
       "    </tr>\n",
       "    <tr>\n",
       "      <th>-N86SKFbvcE8NOr3UmIQ</th>\n",
       "      <td>0</td>\n",
       "      <td>5</td>\n",
       "      <td>291</td>\n",
       "      <td>2022-07-29 00:57:27.813282</td>\n",
       "      <td>1651</td>\n",
       "    </tr>\n",
       "    <tr>\n",
       "      <th>-N86SLi7vEbjqJB5YUPE</th>\n",
       "      <td>0</td>\n",
       "      <td>6</td>\n",
       "      <td>291</td>\n",
       "      <td>2022-07-29 00:57:33.807662</td>\n",
       "      <td>396</td>\n",
       "    </tr>\n",
       "    <tr>\n",
       "      <th>-N86SOnUL6l0P-oTRubv</th>\n",
       "      <td>0</td>\n",
       "      <td>18</td>\n",
       "      <td>291</td>\n",
       "      <td>2022-07-29 00:57:46.435353</td>\n",
       "      <td>290</td>\n",
       "    </tr>\n",
       "    <tr>\n",
       "      <th>-N86VMxCEleiKLZCh62_</th>\n",
       "      <td>1</td>\n",
       "      <td>4</td>\n",
       "      <td>294</td>\n",
       "      <td>2022-07-29 01:10:45.309073</td>\n",
       "      <td>85611</td>\n",
       "    </tr>\n",
       "  </tbody>\n",
       "</table>\n",
       "</div>"
      ],
      "text/plain": [
       "                     abtest_id relevant_index session_id  \\\n",
       "-N86SI9L8LuEuO49sWqt         0              1        291   \n",
       "-N86SKFbvcE8NOr3UmIQ         0              5        291   \n",
       "-N86SLi7vEbjqJB5YUPE         0              6        291   \n",
       "-N86SOnUL6l0P-oTRubv         0             18        291   \n",
       "-N86VMxCEleiKLZCh62_         1              4        294   \n",
       "\n",
       "                                       timestamp title_id  \n",
       "-N86SI9L8LuEuO49sWqt  2022-07-29 00:57:19.240547    21730  \n",
       "-N86SKFbvcE8NOr3UmIQ  2022-07-29 00:57:27.813282     1651  \n",
       "-N86SLi7vEbjqJB5YUPE  2022-07-29 00:57:33.807662      396  \n",
       "-N86SOnUL6l0P-oTRubv  2022-07-29 00:57:46.435353      290  \n",
       "-N86VMxCEleiKLZCh62_  2022-07-29 01:10:45.309073    85611  "
      ]
     },
     "execution_count": 7,
     "metadata": {},
     "output_type": "execute_result"
    }
   ],
   "source": [
    "dbdir = db.reference('test')\n",
    "test_list = pd.DataFrame(dbdir.get()).T.loc[lambda x : (x.session_id.astype(int) >= 291) & (x.session_id.astype(int) < 348)]\n",
    "test_list.head()"
   ]
  },
  {
   "cell_type": "code",
   "execution_count": 8,
   "id": "af3a053c-ca76-4c4f-99a8-b2ff2bbda850",
   "metadata": {},
   "outputs": [
    {
     "data": {
      "text/html": [
       "<div>\n",
       "<style scoped>\n",
       "    .dataframe tbody tr th:only-of-type {\n",
       "        vertical-align: middle;\n",
       "    }\n",
       "\n",
       "    .dataframe tbody tr th {\n",
       "        vertical-align: top;\n",
       "    }\n",
       "\n",
       "    .dataframe thead th {\n",
       "        text-align: right;\n",
       "    }\n",
       "</style>\n",
       "<table border=\"1\" class=\"dataframe\">\n",
       "  <thead>\n",
       "    <tr style=\"text-align: right;\">\n",
       "      <th></th>\n",
       "      <th></th>\n",
       "      <th>relevant_index</th>\n",
       "    </tr>\n",
       "    <tr>\n",
       "      <th>session_id</th>\n",
       "      <th>abtest_id</th>\n",
       "      <th></th>\n",
       "    </tr>\n",
       "  </thead>\n",
       "  <tbody>\n",
       "    <tr>\n",
       "      <th>291</th>\n",
       "      <th>0</th>\n",
       "      <td>{18, 5, 6, 1}</td>\n",
       "    </tr>\n",
       "    <tr>\n",
       "      <th>294</th>\n",
       "      <th>1</th>\n",
       "      <td>{5, 4}</td>\n",
       "    </tr>\n",
       "    <tr>\n",
       "      <th>295</th>\n",
       "      <th>1</th>\n",
       "      <td>{12}</td>\n",
       "    </tr>\n",
       "    <tr>\n",
       "      <th>298</th>\n",
       "      <th>0</th>\n",
       "      <td>{10, 18, 6, 4, 15, 12}</td>\n",
       "    </tr>\n",
       "    <tr>\n",
       "      <th>301</th>\n",
       "      <th>1</th>\n",
       "      <td>{4, 11, 1}</td>\n",
       "    </tr>\n",
       "  </tbody>\n",
       "</table>\n",
       "</div>"
      ],
      "text/plain": [
       "                              relevant_index\n",
       "session_id abtest_id                        \n",
       "291        0                   {18, 5, 6, 1}\n",
       "294        1                          {5, 4}\n",
       "295        1                            {12}\n",
       "298        0          {10, 18, 6, 4, 15, 12}\n",
       "301        1                      {4, 11, 1}"
      ]
     },
     "execution_count": 8,
     "metadata": {},
     "output_type": "execute_result"
    }
   ],
   "source": [
    "map_list = test_list.groupby(['session_id','abtest_id']).agg({'relevant_index':set})\n",
    "map_list.relevant_index.to_frame().head()"
   ]
  },
  {
   "cell_type": "code",
   "execution_count": 9,
   "id": "8ac843c0-41e8-4c8d-bf26-53c446ffecb0",
   "metadata": {},
   "outputs": [],
   "source": [
    "def eval_map(relevant_idx):\n",
    "    \"\"\"\n",
    "    calculating mAP from index numbers of relevant titles\n",
    "    \"\"\"\n",
    "    relevant_idx.sort()\n",
    "\n",
    "    total_ap = 0\n",
    "    for idx, rel_idx  in enumerate(relevant_idx):\n",
    "        total_ap += (idx + 1)/rel_idx\n",
    "    return total_ap/len(relevant_idx)"
   ]
  },
  {
   "cell_type": "code",
   "execution_count": 10,
   "id": "cc3fa6f6-0271-45bf-93f0-9ec8c6462d80",
   "metadata": {},
   "outputs": [
    {
     "data": {
      "text/html": [
       "<div>\n",
       "<style scoped>\n",
       "    .dataframe tbody tr th:only-of-type {\n",
       "        vertical-align: middle;\n",
       "    }\n",
       "\n",
       "    .dataframe tbody tr th {\n",
       "        vertical-align: top;\n",
       "    }\n",
       "\n",
       "    .dataframe thead th {\n",
       "        text-align: right;\n",
       "    }\n",
       "</style>\n",
       "<table border=\"1\" class=\"dataframe\">\n",
       "  <thead>\n",
       "    <tr style=\"text-align: right;\">\n",
       "      <th></th>\n",
       "      <th></th>\n",
       "      <th>relevant_index</th>\n",
       "      <th>map</th>\n",
       "    </tr>\n",
       "    <tr>\n",
       "      <th>session_id</th>\n",
       "      <th>abtest_id</th>\n",
       "      <th></th>\n",
       "      <th></th>\n",
       "    </tr>\n",
       "  </thead>\n",
       "  <tbody>\n",
       "    <tr>\n",
       "      <th>291</th>\n",
       "      <th>0</th>\n",
       "      <td>{18, 5, 6, 1}</td>\n",
       "      <td>0.530556</td>\n",
       "    </tr>\n",
       "    <tr>\n",
       "      <th>294</th>\n",
       "      <th>1</th>\n",
       "      <td>{5, 4}</td>\n",
       "      <td>0.325000</td>\n",
       "    </tr>\n",
       "    <tr>\n",
       "      <th>295</th>\n",
       "      <th>1</th>\n",
       "      <td>{12}</td>\n",
       "      <td>0.083333</td>\n",
       "    </tr>\n",
       "    <tr>\n",
       "      <th>298</th>\n",
       "      <th>0</th>\n",
       "      <td>{10, 18, 6, 4, 15, 12}</td>\n",
       "      <td>0.313889</td>\n",
       "    </tr>\n",
       "    <tr>\n",
       "      <th>301</th>\n",
       "      <th>1</th>\n",
       "      <td>{4, 11, 1}</td>\n",
       "      <td>0.590909</td>\n",
       "    </tr>\n",
       "  </tbody>\n",
       "</table>\n",
       "</div>"
      ],
      "text/plain": [
       "                              relevant_index       map\n",
       "session_id abtest_id                                  \n",
       "291        0                   {18, 5, 6, 1}  0.530556\n",
       "294        1                          {5, 4}  0.325000\n",
       "295        1                            {12}  0.083333\n",
       "298        0          {10, 18, 6, 4, 15, 12}  0.313889\n",
       "301        1                      {4, 11, 1}  0.590909"
      ]
     },
     "execution_count": 10,
     "metadata": {},
     "output_type": "execute_result"
    }
   ],
   "source": [
    "from ast import literal_eval\n",
    "\n",
    "map_list['map'] = map_list.relevant_index.apply(list).apply(lambda x : eval_map(list(map(int,x))))\n",
    "map_list.head()"
   ]
  },
  {
   "cell_type": "markdown",
   "id": "d5df9566-8a7c-4230-aa0e-71a2d8914bfc",
   "metadata": {},
   "source": [
    "### Calculating conversion rate from user click data"
   ]
  },
  {
   "cell_type": "code",
   "execution_count": 12,
   "id": "3efa0fa3-c455-410c-af86-26fd3f4a2f43",
   "metadata": {},
   "outputs": [
    {
     "data": {
      "text/html": [
       "<div>\n",
       "<style scoped>\n",
       "    .dataframe tbody tr th:only-of-type {\n",
       "        vertical-align: middle;\n",
       "    }\n",
       "\n",
       "    .dataframe tbody tr th {\n",
       "        vertical-align: top;\n",
       "    }\n",
       "\n",
       "    .dataframe thead th {\n",
       "        text-align: right;\n",
       "    }\n",
       "</style>\n",
       "<table border=\"1\" class=\"dataframe\">\n",
       "  <thead>\n",
       "    <tr style=\"text-align: right;\">\n",
       "      <th></th>\n",
       "      <th>session_id</th>\n",
       "    </tr>\n",
       "  </thead>\n",
       "  <tbody>\n",
       "    <tr>\n",
       "      <th>-N86SCwk8VdyaqRTZw9y</th>\n",
       "      <td>291</td>\n",
       "    </tr>\n",
       "    <tr>\n",
       "      <th>-N86U1imJBMFgMWl4G1P</th>\n",
       "      <td>292</td>\n",
       "    </tr>\n",
       "    <tr>\n",
       "      <th>-N86Uq_osw1sCs6KJuUU</th>\n",
       "      <td>294</td>\n",
       "    </tr>\n",
       "    <tr>\n",
       "      <th>-N86XbuRWDsX9WQ61SNH</th>\n",
       "      <td>295</td>\n",
       "    </tr>\n",
       "    <tr>\n",
       "      <th>-N86clMiJT-b1yFhN1Lx</th>\n",
       "      <td>296</td>\n",
       "    </tr>\n",
       "  </tbody>\n",
       "</table>\n",
       "</div>"
      ],
      "text/plain": [
       "                     session_id\n",
       "-N86SCwk8VdyaqRTZw9y        291\n",
       "-N86U1imJBMFgMWl4G1P        292\n",
       "-N86Uq_osw1sCs6KJuUU        294\n",
       "-N86XbuRWDsX9WQ61SNH        295\n",
       "-N86clMiJT-b1yFhN1Lx        296"
      ]
     },
     "execution_count": 12,
     "metadata": {},
     "output_type": "execute_result"
    }
   ],
   "source": [
    "dbdir = db.reference('query')\n",
    "query_list = pd.DataFrame(dbdir.get()).T.loc[lambda x : (x.session_id.astype(int) >= 291) & (x.session_id.astype(int) < 348)][['session_id']].drop_duplicates()\n",
    "query_list.head()"
   ]
  },
  {
   "cell_type": "code",
   "execution_count": 13,
   "id": "6703ca92-0657-40c6-b5e4-df96c64e0770",
   "metadata": {},
   "outputs": [
    {
     "data": {
      "text/html": [
       "<div>\n",
       "<style scoped>\n",
       "    .dataframe tbody tr th:only-of-type {\n",
       "        vertical-align: middle;\n",
       "    }\n",
       "\n",
       "    .dataframe tbody tr th {\n",
       "        vertical-align: top;\n",
       "    }\n",
       "\n",
       "    .dataframe thead th {\n",
       "        text-align: right;\n",
       "    }\n",
       "</style>\n",
       "<table border=\"1\" class=\"dataframe\">\n",
       "  <thead>\n",
       "    <tr style=\"text-align: right;\">\n",
       "      <th></th>\n",
       "      <th>session_id</th>\n",
       "      <th>abtest_id</th>\n",
       "    </tr>\n",
       "  </thead>\n",
       "  <tbody>\n",
       "    <tr>\n",
       "      <th>0</th>\n",
       "      <td>291</td>\n",
       "      <td>0</td>\n",
       "    </tr>\n",
       "    <tr>\n",
       "      <th>1</th>\n",
       "      <td>292</td>\n",
       "      <td>0</td>\n",
       "    </tr>\n",
       "    <tr>\n",
       "      <th>2</th>\n",
       "      <td>293</td>\n",
       "      <td>0</td>\n",
       "    </tr>\n",
       "    <tr>\n",
       "      <th>3</th>\n",
       "      <td>294</td>\n",
       "      <td>1</td>\n",
       "    </tr>\n",
       "    <tr>\n",
       "      <th>4</th>\n",
       "      <td>295</td>\n",
       "      <td>1</td>\n",
       "    </tr>\n",
       "  </tbody>\n",
       "</table>\n",
       "</div>"
      ],
      "text/plain": [
       "  session_id abtest_id\n",
       "0        291         0\n",
       "1        292         0\n",
       "2        293         0\n",
       "3        294         1\n",
       "4        295         1"
      ]
     },
     "execution_count": 13,
     "metadata": {},
     "output_type": "execute_result"
    }
   ],
   "source": [
    "dbdir = db.reference('user_sessions')\n",
    "session_list = pd.DataFrame(dbdir.get()).T.loc[lambda x : (x.session_id.astype(int) >= 291) & (x.session_id.astype(int) < 348)][['session_id','abtest_id']]\n",
    "session_list.reset_index(drop = True).head()"
   ]
  },
  {
   "cell_type": "code",
   "execution_count": 14,
   "id": "af10db47-cfdd-4df9-b2a5-17320a341df8",
   "metadata": {},
   "outputs": [
    {
     "data": {
      "text/html": [
       "<div>\n",
       "<style scoped>\n",
       "    .dataframe tbody tr th:only-of-type {\n",
       "        vertical-align: middle;\n",
       "    }\n",
       "\n",
       "    .dataframe tbody tr th {\n",
       "        vertical-align: top;\n",
       "    }\n",
       "\n",
       "    .dataframe thead th {\n",
       "        text-align: right;\n",
       "    }\n",
       "</style>\n",
       "<table border=\"1\" class=\"dataframe\">\n",
       "  <thead>\n",
       "    <tr style=\"text-align: right;\">\n",
       "      <th></th>\n",
       "      <th>session_id</th>\n",
       "      <th>abtest_id</th>\n",
       "    </tr>\n",
       "  </thead>\n",
       "  <tbody>\n",
       "    <tr>\n",
       "      <th>0</th>\n",
       "      <td>291</td>\n",
       "      <td>0</td>\n",
       "    </tr>\n",
       "    <tr>\n",
       "      <th>1</th>\n",
       "      <td>292</td>\n",
       "      <td>0</td>\n",
       "    </tr>\n",
       "    <tr>\n",
       "      <th>2</th>\n",
       "      <td>294</td>\n",
       "      <td>1</td>\n",
       "    </tr>\n",
       "    <tr>\n",
       "      <th>3</th>\n",
       "      <td>295</td>\n",
       "      <td>1</td>\n",
       "    </tr>\n",
       "    <tr>\n",
       "      <th>4</th>\n",
       "      <td>296</td>\n",
       "      <td>0</td>\n",
       "    </tr>\n",
       "  </tbody>\n",
       "</table>\n",
       "</div>"
      ],
      "text/plain": [
       "   session_id abtest_id\n",
       "0         291         0\n",
       "1         292         0\n",
       "2         294         1\n",
       "3         295         1\n",
       "4         296         0"
      ]
     },
     "execution_count": 14,
     "metadata": {},
     "output_type": "execute_result"
    }
   ],
   "source": [
    "query_list.session_id = query_list.session_id.astype(int)\n",
    "session_list.session_id = session_list.session_id.astype(int)\n",
    "ql = query_list.merge(session_list, how = 'left', on = 'session_id')\n",
    "ql.head()"
   ]
  },
  {
   "cell_type": "code",
   "execution_count": 15,
   "id": "897c108b-5d3a-4a7d-84bd-75aca772aa7f",
   "metadata": {},
   "outputs": [
    {
     "data": {
      "text/html": [
       "<div>\n",
       "<style scoped>\n",
       "    .dataframe tbody tr th:only-of-type {\n",
       "        vertical-align: middle;\n",
       "    }\n",
       "\n",
       "    .dataframe tbody tr th {\n",
       "        vertical-align: top;\n",
       "    }\n",
       "\n",
       "    .dataframe thead th {\n",
       "        text-align: right;\n",
       "    }\n",
       "</style>\n",
       "<table border=\"1\" class=\"dataframe\">\n",
       "  <thead>\n",
       "    <tr style=\"text-align: right;\">\n",
       "      <th></th>\n",
       "      <th>session_id</th>\n",
       "      <th>abtest_id</th>\n",
       "      <th>converted</th>\n",
       "    </tr>\n",
       "  </thead>\n",
       "  <tbody>\n",
       "    <tr>\n",
       "      <th>0</th>\n",
       "      <td>291</td>\n",
       "      <td>0</td>\n",
       "      <td>1</td>\n",
       "    </tr>\n",
       "    <tr>\n",
       "      <th>1</th>\n",
       "      <td>292</td>\n",
       "      <td>0</td>\n",
       "      <td>0</td>\n",
       "    </tr>\n",
       "    <tr>\n",
       "      <th>2</th>\n",
       "      <td>294</td>\n",
       "      <td>1</td>\n",
       "      <td>1</td>\n",
       "    </tr>\n",
       "    <tr>\n",
       "      <th>3</th>\n",
       "      <td>295</td>\n",
       "      <td>1</td>\n",
       "      <td>1</td>\n",
       "    </tr>\n",
       "    <tr>\n",
       "      <th>4</th>\n",
       "      <td>296</td>\n",
       "      <td>0</td>\n",
       "      <td>0</td>\n",
       "    </tr>\n",
       "  </tbody>\n",
       "</table>\n",
       "</div>"
      ],
      "text/plain": [
       "   session_id abtest_id  converted\n",
       "0         291         0          1\n",
       "1         292         0          0\n",
       "2         294         1          1\n",
       "3         295         1          1\n",
       "4         296         0          0"
      ]
     },
     "execution_count": 15,
     "metadata": {},
     "output_type": "execute_result"
    }
   ],
   "source": [
    "ml = map_list.reset_index()\n",
    "ml.session_id = ml.session_id.astype(int)\n",
    "ql['converted'] = ql.session_id.apply(lambda x : 1 if x in list(ml.session_id) else 0)\n",
    "ql.head()"
   ]
  },
  {
   "cell_type": "code",
   "execution_count": 43,
   "id": "26d33e7f-735a-4222-b337-d5ab31d2ae5e",
   "metadata": {},
   "outputs": [],
   "source": [
    "complete_test = ql.merge(ml.drop('abtest_id', axis = 1), how = 'left', on = 'session_id')\n",
    "complete_test.map = complete_test.map.fillna(0)"
   ]
  },
  {
   "cell_type": "code",
   "execution_count": 17,
   "id": "840adbd2-32a9-4a3f-9ca4-ae7ca806798f",
   "metadata": {},
   "outputs": [
    {
     "data": {
      "text/html": [
       "<div>\n",
       "<style scoped>\n",
       "    .dataframe tbody tr th:only-of-type {\n",
       "        vertical-align: middle;\n",
       "    }\n",
       "\n",
       "    .dataframe tbody tr th {\n",
       "        vertical-align: top;\n",
       "    }\n",
       "\n",
       "    .dataframe thead th {\n",
       "        text-align: right;\n",
       "    }\n",
       "</style>\n",
       "<table border=\"1\" class=\"dataframe\">\n",
       "  <thead>\n",
       "    <tr style=\"text-align: right;\">\n",
       "      <th></th>\n",
       "      <th>session_id</th>\n",
       "      <th>abtest_id</th>\n",
       "      <th>converted</th>\n",
       "      <th>relevant_index</th>\n",
       "      <th>map</th>\n",
       "    </tr>\n",
       "  </thead>\n",
       "  <tbody>\n",
       "    <tr>\n",
       "      <th>0</th>\n",
       "      <td>291</td>\n",
       "      <td>0</td>\n",
       "      <td>1</td>\n",
       "      <td>{18, 5, 6, 1}</td>\n",
       "      <td>0.530556</td>\n",
       "    </tr>\n",
       "    <tr>\n",
       "      <th>1</th>\n",
       "      <td>292</td>\n",
       "      <td>0</td>\n",
       "      <td>0</td>\n",
       "      <td>NaN</td>\n",
       "      <td>0.000000</td>\n",
       "    </tr>\n",
       "    <tr>\n",
       "      <th>2</th>\n",
       "      <td>294</td>\n",
       "      <td>1</td>\n",
       "      <td>1</td>\n",
       "      <td>{5, 4}</td>\n",
       "      <td>0.325000</td>\n",
       "    </tr>\n",
       "    <tr>\n",
       "      <th>3</th>\n",
       "      <td>295</td>\n",
       "      <td>1</td>\n",
       "      <td>1</td>\n",
       "      <td>{12}</td>\n",
       "      <td>0.083333</td>\n",
       "    </tr>\n",
       "    <tr>\n",
       "      <th>4</th>\n",
       "      <td>296</td>\n",
       "      <td>0</td>\n",
       "      <td>0</td>\n",
       "      <td>NaN</td>\n",
       "      <td>0.000000</td>\n",
       "    </tr>\n",
       "  </tbody>\n",
       "</table>\n",
       "</div>"
      ],
      "text/plain": [
       "   session_id abtest_id  converted relevant_index       map\n",
       "0         291         0          1  {18, 5, 6, 1}  0.530556\n",
       "1         292         0          0            NaN  0.000000\n",
       "2         294         1          1         {5, 4}  0.325000\n",
       "3         295         1          1           {12}  0.083333\n",
       "4         296         0          0            NaN  0.000000"
      ]
     },
     "execution_count": 17,
     "metadata": {},
     "output_type": "execute_result"
    }
   ],
   "source": [
    "complete_test.head()"
   ]
  },
  {
   "cell_type": "markdown",
   "id": "7e64417c-3709-4669-9341-834394075623",
   "metadata": {},
   "source": [
    "### Interpreting the result"
   ]
  },
  {
   "cell_type": "code",
   "execution_count": 19,
   "id": "458cce95-e291-4dea-823f-0cf95e999ba3",
   "metadata": {},
   "outputs": [
    {
     "name": "stdout",
     "output_type": "stream",
     "text": [
      "number of sessions collected: 56\n",
      "number of sessions where users selected fav titles: 42\n",
      "number of sessions converted(hit ❤️ buttons): 30\n"
     ]
    }
   ],
   "source": [
    "# data info\n",
    "\n",
    "print(f'number of sessions collected: {len(session_list)}')\n",
    "print(f'number of sessions where users selected fav titles: {len(query_list)}')\n",
    "print(f'number of sessions converted(hit ❤️ buttons): {len(complete_test.loc[lambda x : x.converted == 1])}')"
   ]
  },
  {
   "cell_type": "code",
   "execution_count": 20,
   "id": "b68b34a5-3205-431f-bd27-2ebec50bf5e7",
   "metadata": {},
   "outputs": [
    {
     "data": {
      "text/html": [
       "<div>\n",
       "<style scoped>\n",
       "    .dataframe tbody tr th:only-of-type {\n",
       "        vertical-align: middle;\n",
       "    }\n",
       "\n",
       "    .dataframe tbody tr th {\n",
       "        vertical-align: top;\n",
       "    }\n",
       "\n",
       "    .dataframe thead th {\n",
       "        text-align: right;\n",
       "    }\n",
       "</style>\n",
       "<table border=\"1\" class=\"dataframe\">\n",
       "  <thead>\n",
       "    <tr style=\"text-align: right;\">\n",
       "      <th></th>\n",
       "      <th>percentage</th>\n",
       "      <th>num_of_samples</th>\n",
       "    </tr>\n",
       "  </thead>\n",
       "  <tbody>\n",
       "    <tr>\n",
       "      <th>CBF</th>\n",
       "      <td>0.5</td>\n",
       "      <td>21</td>\n",
       "    </tr>\n",
       "    <tr>\n",
       "      <th>UBF</th>\n",
       "      <td>0.5</td>\n",
       "      <td>21</td>\n",
       "    </tr>\n",
       "  </tbody>\n",
       "</table>\n",
       "</div>"
      ],
      "text/plain": [
       "     percentage  num_of_samples\n",
       "CBF         0.5              21\n",
       "UBF         0.5              21"
      ]
     },
     "execution_count": 20,
     "metadata": {},
     "output_type": "execute_result"
    }
   ],
   "source": [
    "# abtest_id portion\n",
    "\n",
    "abtest_id = complete_test['abtest_id'].value_counts(normalize = True).to_frame()\n",
    "abtest_id = pd.concat([abtest_id, complete_test['abtest_id'].value_counts().to_frame()], axis = 1)\n",
    "abtest_id.index = ['CBF', 'UBF']\n",
    "abtest_id.columns = ['percentage','num_of_samples']\n",
    "\n",
    "\n",
    "abtest_id"
   ]
  },
  {
   "cell_type": "code",
   "execution_count": 21,
   "id": "058dbd6f-9ed4-4440-996a-9e4d8c405bee",
   "metadata": {},
   "outputs": [
    {
     "data": {
      "text/html": [
       "<div>\n",
       "<style scoped>\n",
       "    .dataframe tbody tr th:only-of-type {\n",
       "        vertical-align: middle;\n",
       "    }\n",
       "\n",
       "    .dataframe tbody tr th {\n",
       "        vertical-align: top;\n",
       "    }\n",
       "\n",
       "    .dataframe thead th {\n",
       "        text-align: right;\n",
       "    }\n",
       "</style>\n",
       "<table border=\"1\" class=\"dataframe\">\n",
       "  <thead>\n",
       "    <tr style=\"text-align: right;\">\n",
       "      <th></th>\n",
       "      <th>conversion_rate</th>\n",
       "      <th>num_of_samples_converted</th>\n",
       "    </tr>\n",
       "  </thead>\n",
       "  <tbody>\n",
       "    <tr>\n",
       "      <th>CBF</th>\n",
       "      <td>0.761905</td>\n",
       "      <td>16</td>\n",
       "    </tr>\n",
       "    <tr>\n",
       "      <th>UBF</th>\n",
       "      <td>0.666667</td>\n",
       "      <td>14</td>\n",
       "    </tr>\n",
       "  </tbody>\n",
       "</table>\n",
       "</div>"
      ],
      "text/plain": [
       "     conversion_rate  num_of_samples_converted\n",
       "CBF         0.761905                        16\n",
       "UBF         0.666667                        14"
      ]
     },
     "execution_count": 21,
     "metadata": {},
     "output_type": "execute_result"
    }
   ],
   "source": [
    "# converted_ratio by abtest_id\n",
    "\n",
    "converted = complete_test.groupby('abtest_id').converted.mean().to_frame()\n",
    "converted = pd.concat([converted, complete_test.groupby('abtest_id').converted.sum().to_frame()], axis = 1)\n",
    "converted.index = ['CBF','UBF']\n",
    "converted.columns = ['conversion_rate','num_of_samples_converted']\n",
    "\n",
    "converted"
   ]
  },
  {
   "cell_type": "code",
   "execution_count": 22,
   "id": "cb101574-6a27-4631-accd-756178157f59",
   "metadata": {},
   "outputs": [
    {
     "data": {
      "text/html": [
       "<div>\n",
       "<style scoped>\n",
       "    .dataframe tbody tr th:only-of-type {\n",
       "        vertical-align: middle;\n",
       "    }\n",
       "\n",
       "    .dataframe tbody tr th {\n",
       "        vertical-align: top;\n",
       "    }\n",
       "\n",
       "    .dataframe thead th {\n",
       "        text-align: right;\n",
       "    }\n",
       "</style>\n",
       "<table border=\"1\" class=\"dataframe\">\n",
       "  <thead>\n",
       "    <tr style=\"text-align: right;\">\n",
       "      <th></th>\n",
       "      <th>map</th>\n",
       "    </tr>\n",
       "  </thead>\n",
       "  <tbody>\n",
       "    <tr>\n",
       "      <th>CBF</th>\n",
       "      <td>0.402694</td>\n",
       "    </tr>\n",
       "    <tr>\n",
       "      <th>UBF</th>\n",
       "      <td>0.301160</td>\n",
       "    </tr>\n",
       "  </tbody>\n",
       "</table>\n",
       "</div>"
      ],
      "text/plain": [
       "          map\n",
       "CBF  0.402694\n",
       "UBF  0.301160"
      ]
     },
     "execution_count": 22,
     "metadata": {},
     "output_type": "execute_result"
    }
   ],
   "source": [
    "# mAP by abtest_id\n",
    "mAP = complete_test.groupby('abtest_id').map.mean().to_frame()\n",
    "mAP.index = ['CBF','UBF']\n",
    "\n",
    "mAP"
   ]
  },
  {
   "cell_type": "code",
   "execution_count": 25,
   "id": "d3ecfe2c-153e-4530-a1a9-c4f74d216ca1",
   "metadata": {},
   "outputs": [],
   "source": [
    "# pip install pingouin"
   ]
  },
  {
   "cell_type": "code",
   "execution_count": 28,
   "id": "a6f35e4c-2c4c-46f7-a3c5-3d34b8494007",
   "metadata": {},
   "outputs": [],
   "source": [
    "from pingouin import ttest, mwu\n",
    "\n",
    "a = complete_test.loc[lambda x : x.abtest_id == '0'].map\n",
    "b = complete_test.loc[lambda x : x.abtest_id == '1'].map"
   ]
  },
  {
   "cell_type": "code",
   "execution_count": 29,
   "id": "7bd154a3-571b-4a3b-838d-448ca204307f",
   "metadata": {},
   "outputs": [
    {
     "data": {
      "text/html": [
       "<div>\n",
       "<style scoped>\n",
       "    .dataframe tbody tr th:only-of-type {\n",
       "        vertical-align: middle;\n",
       "    }\n",
       "\n",
       "    .dataframe tbody tr th {\n",
       "        vertical-align: top;\n",
       "    }\n",
       "\n",
       "    .dataframe thead th {\n",
       "        text-align: right;\n",
       "    }\n",
       "</style>\n",
       "<table border=\"1\" class=\"dataframe\">\n",
       "  <thead>\n",
       "    <tr style=\"text-align: right;\">\n",
       "      <th></th>\n",
       "      <th>T</th>\n",
       "      <th>dof</th>\n",
       "      <th>alternative</th>\n",
       "      <th>p-val</th>\n",
       "      <th>CI95%</th>\n",
       "      <th>cohen-d</th>\n",
       "      <th>BF10</th>\n",
       "      <th>power</th>\n",
       "    </tr>\n",
       "  </thead>\n",
       "  <tbody>\n",
       "    <tr>\n",
       "      <th>T-test</th>\n",
       "      <td>0.974922</td>\n",
       "      <td>40</td>\n",
       "      <td>two-sided</td>\n",
       "      <td>0.335458</td>\n",
       "      <td>[-0.11, 0.31]</td>\n",
       "      <td>0.300867</td>\n",
       "      <td>0.443</td>\n",
       "      <td>0.15845</td>\n",
       "    </tr>\n",
       "  </tbody>\n",
       "</table>\n",
       "</div>"
      ],
      "text/plain": [
       "               T  dof alternative     p-val          CI95%   cohen-d   BF10  \\\n",
       "T-test  0.974922   40   two-sided  0.335458  [-0.11, 0.31]  0.300867  0.443   \n",
       "\n",
       "          power  \n",
       "T-test  0.15845  "
      ]
     },
     "execution_count": 29,
     "metadata": {},
     "output_type": "execute_result"
    }
   ],
   "source": [
    "ttest(a,b)"
   ]
  },
  {
   "cell_type": "markdown",
   "id": "c7c76967-a410-4b24-a04e-49374529c9c5",
   "metadata": {},
   "source": [
    "**independent t test result:** sample size too small to conduct t test / sample distribution does not meet the assumptions for conducting t test"
   ]
  },
  {
   "cell_type": "code",
   "execution_count": 30,
   "id": "5994498c-fcf5-46a6-8427-7a7515ad592e",
   "metadata": {},
   "outputs": [
    {
     "data": {
      "text/html": [
       "<div>\n",
       "<style scoped>\n",
       "    .dataframe tbody tr th:only-of-type {\n",
       "        vertical-align: middle;\n",
       "    }\n",
       "\n",
       "    .dataframe tbody tr th {\n",
       "        vertical-align: top;\n",
       "    }\n",
       "\n",
       "    .dataframe thead th {\n",
       "        text-align: right;\n",
       "    }\n",
       "</style>\n",
       "<table border=\"1\" class=\"dataframe\">\n",
       "  <thead>\n",
       "    <tr style=\"text-align: right;\">\n",
       "      <th></th>\n",
       "      <th>U-val</th>\n",
       "      <th>alternative</th>\n",
       "      <th>p-val</th>\n",
       "      <th>RBC</th>\n",
       "      <th>CLES</th>\n",
       "    </tr>\n",
       "  </thead>\n",
       "  <tbody>\n",
       "    <tr>\n",
       "      <th>MWU</th>\n",
       "      <td>258.0</td>\n",
       "      <td>two-sided</td>\n",
       "      <td>0.346306</td>\n",
       "      <td>-0.170068</td>\n",
       "      <td>0.585034</td>\n",
       "    </tr>\n",
       "  </tbody>\n",
       "</table>\n",
       "</div>"
      ],
      "text/plain": [
       "     U-val alternative     p-val       RBC      CLES\n",
       "MWU  258.0   two-sided  0.346306 -0.170068  0.585034"
      ]
     },
     "execution_count": 30,
     "metadata": {},
     "output_type": "execute_result"
    }
   ],
   "source": [
    "mwu(a,b)"
   ]
  },
  {
   "cell_type": "markdown",
   "id": "4832dad9-0b19-4b4d-8c94-e9c95da777ca",
   "metadata": {},
   "source": [
    "**mann-whitney U test result:** conducted non-parametric test since the samples do not meet the requirement for t test\n",
    "\n",
    "**No statistically significant difference(in terms of conversion rate/mAP) between the two methods.**"
   ]
  },
  {
   "cell_type": "code",
   "execution_count": 33,
   "id": "5f1f8a6f-c0f6-4d61-9d49-82a45df42012",
   "metadata": {},
   "outputs": [],
   "source": [
    "from scipy import stats"
   ]
  },
  {
   "cell_type": "code",
   "execution_count": 31,
   "id": "a0b2de98-a9fb-49f5-aa83-49024920e413",
   "metadata": {},
   "outputs": [
    {
     "data": {
      "text/html": [
       "<div>\n",
       "<style scoped>\n",
       "    .dataframe tbody tr th:only-of-type {\n",
       "        vertical-align: middle;\n",
       "    }\n",
       "\n",
       "    .dataframe tbody tr th {\n",
       "        vertical-align: top;\n",
       "    }\n",
       "\n",
       "    .dataframe thead th {\n",
       "        text-align: right;\n",
       "    }\n",
       "</style>\n",
       "<table border=\"1\" class=\"dataframe\">\n",
       "  <thead>\n",
       "    <tr style=\"text-align: right;\">\n",
       "      <th></th>\n",
       "      <th>abtest_id</th>\n",
       "      <th>converted</th>\n",
       "    </tr>\n",
       "  </thead>\n",
       "  <tbody>\n",
       "    <tr>\n",
       "      <th>CBF</th>\n",
       "      <td>21</td>\n",
       "      <td>16</td>\n",
       "    </tr>\n",
       "    <tr>\n",
       "      <th>UBF</th>\n",
       "      <td>21</td>\n",
       "      <td>14</td>\n",
       "    </tr>\n",
       "  </tbody>\n",
       "</table>\n",
       "</div>"
      ],
      "text/plain": [
       "     abtest_id  converted\n",
       "CBF         21         16\n",
       "UBF         21         14"
      ]
     },
     "execution_count": 31,
     "metadata": {},
     "output_type": "execute_result"
    }
   ],
   "source": [
    "total_counts = ql.abtest_id.value_counts()\n",
    "converted_sum = ql.groupby('abtest_id').converted.sum()\n",
    "conv_mat = pd.concat([total_counts,converted_sum], axis = 1)\n",
    "converted = conv_mat.values\n",
    "conv_mat.index = ['CBF','UBF']\n",
    "conv_mat"
   ]
  },
  {
   "cell_type": "markdown",
   "id": "85d5020a-6d83-4d9a-963e-c69f3c3e1d70",
   "metadata": {},
   "source": [
    "**test for difference in conversion rate:** chi squared test"
   ]
  },
  {
   "cell_type": "code",
   "execution_count": 34,
   "id": "2cf70ef0-3579-4dc1-9671-e8269e15d2c9",
   "metadata": {},
   "outputs": [
    {
     "name": "stdout",
     "output_type": "stream",
     "text": [
      "Xsquared : 0.0016, P-value : 0.9682\n"
     ]
    }
   ],
   "source": [
    "result = stats.chi2_contingency(converted)\n",
    "print(f'Xsquared : {round(result[0],4)}, P-value : {round(result[1],4)}')"
   ]
  },
  {
   "cell_type": "code",
   "execution_count": 44,
   "id": "2b076d29-fa27-49b8-9fce-5dec0e10cef1",
   "metadata": {},
   "outputs": [
    {
     "data": {
      "text/plain": [
       "Text(0.5, 1.0, 'distribution of mAP for both methods')"
      ]
     },
     "execution_count": 44,
     "metadata": {},
     "output_type": "execute_result"
    },
    {
     "data": {
      "image/png": "[encoded data removed]",
      "text/plain": [
       "<Figure size 432x288 with 1 Axes>"
      ]
     },
     "metadata": {
      "needs_background": "light"
     },
     "output_type": "display_data"
    }
   ],
   "source": [
    "import matplotlib.pyplot as plt\n",
    "\n",
    "fig, ax = plt.subplots()\n",
    "\n",
    "complete_test.abtest_id = complete_test.abtest_id.apply(lambda x : 'CBF' if x == '0' else 'UBF')\n",
    "ax = pd.pivot(complete_test, index = 'session_id', columns = 'abtest_id', values = 'map').boxplot()\n",
    "plt.title('distribution of mAP for both methods')"
   ]
  },
  {
   "cell_type": "code",
   "execution_count": null,
   "id": "c2e14cc9-81a2-47e7-8214-64a051ecb95f",
   "metadata": {},
   "outputs": [],
   "source": []
  }
 ],
 "metadata": {
  "kernelspec": {
   "display_name": "Python 3",
   "language": "python",
   "name": "python3"
  },
  "language_info": {
   "codemirror_mode": {
    "name": "ipython",
    "version": 3
   },
   "file_extension": ".py",
   "mimetype": "text/x-python",
   "name": "python",
   "nbconvert_exporter": "python",
   "pygments_lexer": "ipython3",
   "version": "3.7.12"
  }
 },
 "nbformat": 4,
 "nbformat_minor": 5
}
