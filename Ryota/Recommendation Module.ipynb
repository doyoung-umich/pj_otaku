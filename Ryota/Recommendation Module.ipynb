{
 "cells": [
  {
   "cell_type": "markdown",
   "id": "aad6ff37",
   "metadata": {},
   "source": [
    "## Recommendation Module"
   ]
  },
  {
   "cell_type": "markdown",
   "id": "fc918bca",
   "metadata": {},
   "source": [
    "#### ToDo\n",
    "\n",
    "- [x] Calculate user similarities\n",
    "    - [x] Query by user_id -> users with similar taste -> recommend\n",
    "    - [x] Query by picking out the favorite titles -> users with similar taste -> recommend\n",
    "- [x] Similarity Evaluation: average of title overlap ratio of top 10 similar users\n",
    "    - [x] cosine -> 0.256\n",
    "    - [x] euclidean -> 0.231\n",
    "    - [x] manhattan -> 0.275\n",
    "- [x] Recommendation\n",
    "    - [x] Try item-user matrix recommendation\n",
    "    - [x] Work out what the querying user has not yet seen or watched. From that list:\n",
    "        - [x] a) Pick the most popular titles\n",
    "        - [x] b) From top 10 similar users, which title have you not seen/read but the others have?\n",
    "- [ ] Refactor\n",
    "    - [x] Separate sections for scaled & not scaled codes\n",
    "    - [x] Convert methods into one class -> UserBasedFiltering\n",
    "    - [ ] Refactor UserBasedFiltering: \n",
    "        - [ ] Add parameter to recommendation method to filter manga/anime recommendations\n",
    "        - [ ] Stop doing everything in df to make things faster\n",
    "\n",
    "#### Other\n",
    "- [ ] Extra: Convert media list to network visualization\n",
    "- [ ] Weight the media by its status (CURRENT/DROPPED etc)\n",
    "- [ ] Fuzzy match problem with the title name"
   ]
  },
  {
   "cell_type": "code",
   "execution_count": 44,
   "id": "37ab54e0",
   "metadata": {},
   "outputs": [],
   "source": [
    "# !pip install fuzzywuzzy\n",
    "# !pip install python-Levenshtein"
   ]
  },
  {
   "cell_type": "code",
   "execution_count": 90,
   "id": "d23c9e7f",
   "metadata": {},
   "outputs": [],
   "source": [
    "import sys\n",
    "import pandas as pd\n",
    "import numpy as np\n",
    "import re\n",
    "import matplotlib.pyplot as plt\n",
    "import seaborn as sns\n",
    "from joypy import joyplot\n",
    "import sweetviz as sv\n",
    "from tqdm import tqdm\n",
    "from collections import ChainMap\n",
    "import sklearn\n",
    "from sklearn.decomposition import PCA, TruncatedSVD\n",
    "from sklearn.preprocessing import StandardScaler\n",
    "from sklearn.preprocessing import MultiLabelBinarizer\n",
    "from sklearn.metrics.pairwise import cosine_similarity, manhattan_distances, euclidean_distances\n",
    "from sklearn.neighbors import NearestNeighbors\n",
    "from scipy.sparse import csr_matrix\n",
    "from scipy import sparse\n",
    "pd.set_option(\"max_columns\", 200)\n",
    "from fuzzywuzzy import fuzz"
   ]
  },
  {
   "cell_type": "code",
   "execution_count": 91,
   "id": "e526d9cd",
   "metadata": {},
   "outputs": [],
   "source": [
    "# query user_id\n",
    "QUERY_USER_ID = 1"
   ]
  },
  {
   "cell_type": "markdown",
   "id": "f1ff7d33",
   "metadata": {},
   "source": [
    "---\n",
    "# User-based recommendation module\n",
    "---"
   ]
  },
  {
   "cell_type": "code",
   "execution_count": 157,
   "id": "9ee53ccf",
   "metadata": {},
   "outputs": [],
   "source": [
    "class UserBasedFiltering:\n",
    "    def __init__(self):\n",
    "        # Load various data first\n",
    "        self.df_titles = pd.read_csv(\"../assets/titles_2000p.csv\")\n",
    "        self.df_titles_genre = pd.read_csv(\"../assets/ryota_title_genre_2000p.csv\")\n",
    "        self.df_mlist = pd.read_csv(\"../assets/media_list_all_users.csv\")\n",
    "        self.df_mlist_genre = pd.read_csv(\"../assets/ryota_media_list_genre.csv\")\n",
    "        self.df_user_genre_dist = pd.read_csv(\"../assets/ryota_user_genre_dist.csv\")\n",
    "        self.mat_title_user = sparse.load_npz(\"../assets/ryota_title_user.npz\")\n",
    "        self.titlle_idx_list = list(np.load(\"../assets/ryota_title_user_idx.npy\"))\n",
    "\n",
    "\n",
    "    def get_similar_users_from_user_id(self, start_col, dist_metric=\"cosine_similarity\", query_user_id=QUERY_USER_ID, ascending=False):\n",
    "        '''\n",
    "        query similar users from user_id\n",
    "        '''\n",
    "        # Calculate user similarities\n",
    "        df = self.df_user_genre_dist\n",
    "        id_list = df[\"user_id\"]\n",
    "        if dist_metric==\"euclidean_distances\":\n",
    "            df_sim_mat = pd.DataFrame(euclidean_distances(df.iloc[:, start_col:]))\n",
    "        elif dist_metric==\"manhattan_distances\":\n",
    "            df_sim_mat = pd.DataFrame(manhattan_distances(df.iloc[:, start_col:]))\n",
    "        else:\n",
    "            df_sim_mat = pd.DataFrame(cosine_similarity(df.iloc[:, start_col:]))\n",
    "        df_sim_mat.index = id_list\n",
    "        df_sim_mat.columns = id_list\n",
    "\n",
    "        similar_users = df_sim_mat[query_user_id].sort_values(ascending=ascending).reset_index()\n",
    "        top_10_similar_user_ids = list(similar_users.iloc[1:11, 0])\n",
    "        return top_10_similar_user_ids\n",
    "\n",
    "\n",
    "    def get_similar_users_from_titles(self, q_titles, threshold=50):\n",
    "        '''\n",
    "        query similar users from list of favorite title_ids\n",
    "        '''\n",
    "        # refer to users with more than 50 titles -> more stable genre distribution\n",
    "        df_user_mlist_count = self.df_mlist_genre[[\"user_id\", \"mlist_count\"]]\n",
    "        df_user_mlist_count = df_user_mlist_count[df_user_mlist_count[\"mlist_count\"]>threshold]\n",
    "        ref_user_ids = df_user_mlist_count[\"user_id\"].values\n",
    "        \n",
    "        # limit df_user_genre_dist to users with more than threshold n titles in their media list\n",
    "        df_user_genre_dist_thresh = self.df_user_genre_dist[self.df_user_genre_dist[\"user_id\"].isin(ref_user_ids)]\n",
    "\n",
    "        # create genre map from title_id list\n",
    "        df_titles_genre_ex = self.df_titles_genre[self.df_titles_genre[\"title_id\"].isin(q_titles)]\n",
    "        df_titles_genre_ex = df_titles_genre_ex.sum(axis=0) / len(df_titles_genre_ex)\n",
    "\n",
    "        # get the genre distribution values and work out cosine similarity\n",
    "        ex_genre_dist = df_titles_genre_ex.iloc[1:].values.reshape(1,-1)\n",
    "        user_genre_dist = df_user_genre_dist_thresh.iloc[:,1:].values\n",
    "        res = cosine_similarity(user_genre_dist, ex_genre_dist)\n",
    "        res = res.reshape(-1)\n",
    "        high_sim_idx = np.argsort(res)[-10:]\n",
    "        top_10_similar_user_ids = ref_user_ids[high_sim_idx]\n",
    "        # print(\"shapes of: queried genre dist, referenced users' genre dist, reshaped similarity matrix\", ex_genre_dist.shape, user_genre_dist.shape, res.shape)\n",
    "        # print(\"similarity score, user_id of similar users: \", res[high_sim_idx], ref_user_ids[high_sim_idx])\n",
    "        return top_10_similar_user_ids\n",
    "\n",
    "\n",
    "    def evaluate_by_overlap_titles(self, similar_user_ids, query_user_id=QUERY_USER_ID):\n",
    "        '''\n",
    "        Work out the average ratio of titles overlap and use it as direct evaluation metric\n",
    "        Higher the ratio of overlap = better similarity calculation\n",
    "        '''\n",
    "        df = self.df_mlist\n",
    "        overlap_ratios = []\n",
    "        df_q = df[df[\"user_id\"]==query_user_id]\n",
    "        q_u_titles = list(df_q[\"title_id\"])\n",
    "\n",
    "        for user_id in similar_user_ids:\n",
    "            df_sim = df[df[\"user_id\"]==user_id]\n",
    "            sim_u_titles = list(df_sim[\"title_id\"])\n",
    "            overlap = list(set(sim_u_titles) & set(q_u_titles))\n",
    "            # print(\"for user_id: \", user_id)\n",
    "            # print(\"all titles: \", len(sim_u_titles))\n",
    "            # print(\"overlapping titles: \", len(overlap))\n",
    "            overlap_ratios.append(len(overlap) / len(sim_u_titles))\n",
    "        avg_overlap_ratio = sum(overlap_ratios) / len(overlap_ratios)\n",
    "        return avg_overlap_ratio\n",
    "\n",
    "\n",
    "    def recommend_unread_titles(self, n_titles, similar_user_list, query_user=QUERY_USER_ID, method=\"refer_others\"):\n",
    "        '''\n",
    "        It retrieves the media list of similar users and then recommend based on specified logic\n",
    "\n",
    "        :params\n",
    "            df_titles: titles df\n",
    "            df_mlist: media list df\n",
    "            n_titles: how many titles to recommend\n",
    "            query_user: querying user_id\n",
    "            similar_user_list: list of similar user_ids\n",
    "            method: which method to make recommendation\n",
    "        :returns\n",
    "            list of title_id as recommendation\n",
    "        '''\n",
    "        # get title_ids that the querying user hasn't read but similar users have\n",
    "        df_mlist_similar_user = self.df_mlist[self.df_mlist[\"user_id\"].isin(similar_user_list)]\n",
    "        df_mlist_q_user = self.df_mlist[self.df_mlist[\"user_id\"]==query_user]\n",
    "        q_users_titles = list(df_mlist_q_user[\"title_id\"])\n",
    "        df_mlist_similar_user_not_read = df_mlist_similar_user[~df_mlist_similar_user[\"title_id\"].isin(q_users_titles)]\n",
    "\n",
    "        if method==\"refer_popularity\":\n",
    "            # refer_popularity method: get \"favorites\" count of the unread titles and return top n titles\n",
    "            unread_list = list(df_mlist_similar_user_not_read[\"title_id\"].unique())\n",
    "            df_recommend_list = self.df_titles[self.df_titles[\"title_id\"].isin(unread_list)]\n",
    "            df_recommend_list = df_recommend_list[[\"title_id\", \"favorites\"]].sort_values(by=\"favorites\", ascending=False).iloc[:n_titles]\n",
    "            recommend_list = list(df_recommend_list[\"title_id\"])\n",
    "        else:\n",
    "            # refer_others method: get count of titles and return top n titles\n",
    "            df_recommend_list = df_mlist_similar_user_not_read.groupby(\"title_id\").size().sort_values(ascending=False).iloc[:n_titles]\n",
    "            recommend_list = list(df_recommend_list.index)\n",
    "        return recommend_list\n",
    "\n",
    "    \n",
    "    def recommend_from_other_user_histories(self, q_title_id, model_neighbors=20, model_metric=\"cosine\", output_neighbors=10):\n",
    "        '''\n",
    "        Query by the given title_id. Refers to the title:user matrix\n",
    "        '''\n",
    "        q_title_idx = titlle_idx_list.index(q_title_id)\n",
    "        model = NearestNeighbors(metric=model_metric, algorithm=\"brute\", n_neighbors=model_neighbors)\n",
    "        model.fit(self.mat_title_user)\n",
    "        distances, indices = model.kneighbors(mat_title_user[q_title_idx], n_neighbors=output_neighbors+1) # output_neighbors+1 because it always puts q_title_id as result\n",
    "        indices = indices[indices != q_title_idx] # remove queried title_id from result\n",
    "\n",
    "        titlle_idx_arr = np.array(titlle_idx_list)\n",
    "        recommended_title_ids = titlle_idx_arr[indices].reshape(-1)\n",
    "        return recommended_title_ids    "
   ]
  },
  {
   "cell_type": "code",
   "execution_count": 158,
   "id": "fa5df4e5",
   "metadata": {},
   "outputs": [],
   "source": [
    "# Initialize\n",
    "ubf = UserBasedFiltering()"
   ]
  },
  {
   "cell_type": "markdown",
   "id": "0732772d",
   "metadata": {},
   "source": [
    "### Test: Recommendation from user_id"
   ]
  },
  {
   "cell_type": "code",
   "execution_count": 121,
   "id": "5cdd9756",
   "metadata": {},
   "outputs": [
    {
     "name": "stdout",
     "output_type": "stream",
     "text": [
      "[6803, 532, 5708, 3883, 1393, 8103, 6155, 2871, 54, 3934]\n",
      "0.2560350993885577\n"
     ]
    },
    {
     "data": {
      "text/plain": [
       "[11061, 21, 113415, 101922, 1735, 20464, 30013, 20, 104578, 21507]"
      ]
     },
     "execution_count": 121,
     "metadata": {},
     "output_type": "execute_result"
    }
   ],
   "source": [
    "# Query by user_id\n",
    "\n",
    "# calculate similarity and similar user ids\n",
    "top_10_similar_user_ids = ubf.get_similar_users_from_user_id(start_col=1, dist_metric=\"cosine_similarity\", query_user_id=QUERY_USER_ID)\n",
    "print(top_10_similar_user_ids)\n",
    "\n",
    "# Work out the average ratio of overlapping titles\n",
    "print(ubf.evaluate_by_overlap_titles(top_10_similar_user_ids))\n",
    "\n",
    "# make recommendation\n",
    "ubf.recommend_unread_titles(10, top_10_similar_user_ids, method=\"refer_popularity\")"
   ]
  },
  {
   "cell_type": "markdown",
   "id": "85946e0c",
   "metadata": {},
   "source": [
    "### Test: Recommendation from list of title_ids"
   ]
  },
  {
   "cell_type": "code",
   "execution_count": 122,
   "id": "90e9dd8d",
   "metadata": {},
   "outputs": [
    {
     "name": "stdout",
     "output_type": "stream",
     "text": [
      "[9392 2866 9494 2154 5626 8157 8612 1434 8839 7633]\n",
      "0.3838791368593074\n"
     ]
    },
    {
     "data": {
      "text/plain": [
       "[1735, 112641, 199, 20447, 20613, 853, 20789, 9919, 11771, 1210]"
      ]
     },
     "execution_count": 122,
     "metadata": {},
     "output_type": "execute_result"
    }
   ],
   "source": [
    "# Query by title_ids\n",
    "\n",
    "# example query title_id list\n",
    "ex_titles_action = [30002, 105778, 53390, 87216, 85486, 30656, 30642, 31706, 31133, 30025]\n",
    "ex_titles_romance = [72451, 97852, 85135, 101583, 87395, 59211, 132182, 30145, 41514, 86481]\n",
    "\n",
    "top_10_similar_user_ids = ubf.get_similar_users_from_titles(ex_titles_romance)\n",
    "print(top_10_similar_user_ids)\n",
    "\n",
    "# Work out the average ratio of overlapping titles\n",
    "print(ubf.evaluate_by_overlap_titles(top_10_similar_user_ids))\n",
    "\n",
    "# make recommendation\n",
    "ubf.recommend_unread_titles(10, top_10_similar_user_ids, method=\"refer_popularity\")"
   ]
  },
  {
   "cell_type": "markdown",
   "id": "3bc71d49",
   "metadata": {},
   "source": [
    "### Test: Recommendation from a title, but refering to title-user matrix"
   ]
  },
  {
   "cell_type": "code",
   "execution_count": 162,
   "id": "f6f405ff",
   "metadata": {},
   "outputs": [
    {
     "name": "stdout",
     "output_type": "stream",
     "text": [
      "[ 170  558 1842 5028 3226  263 5040 7655 5258 2112]\n"
     ]
    }
   ],
   "source": [
    "# Query by title_id\n",
    "\n",
    "query_title_id = 15 # eye shield 21\n",
    "\n",
    "res = ubf.recommend_from_other_user_histories(query_title_id)\n",
    "print(res)\n",
    "# display(df_titles[df_titles[\"title_id\"].isin(res)])"
   ]
  },
  {
   "cell_type": "markdown",
   "id": "e275e544",
   "metadata": {},
   "source": [
    "---\n",
    "# Extras\n",
    "---"
   ]
  },
  {
   "cell_type": "markdown",
   "id": "769ba3b6",
   "metadata": {},
   "source": [
    "## Fuzzy match"
   ]
  },
  {
   "cell_type": "code",
   "execution_count": 55,
   "id": "c76bec6d",
   "metadata": {},
   "outputs": [
    {
     "name": "stdout",
     "output_type": "stream",
     "text": [
      "45\n",
      "88\n",
      "48\n",
      "[30044, 'Gintama', 100]\n"
     ]
    }
   ],
   "source": [
    "print(fuzz.ratio(\"Gintama: THE VERY FINAL\", \"Gintama.\"))\n",
    "print(fuzz.partial_ratio(\"Gintama: THE VERY FINAL\", \"Gintama.\"))\n",
    "print(fuzz.token_sort_ratio(\"Gintama: THE VERY FINAL\", \"Gintama.\"))\n",
    "\n",
    "df_titles = pd.read_csv(\"../assets/titles_2000p.csv\")\n",
    "# display(df_titles)\n",
    "\n",
    "q_title = \"Gintama: THE VERY FINAL\"\n",
    "\n",
    "title_id_zip = zip(df_titles[\"title_id\"], df_titles[\"title_romaji\"])\n",
    "best_match_title = None\n",
    "best_match_score = 0\n",
    "for t_id, title in title_id_zip:\n",
    "    partial_ratio = fuzz.partial_ratio(title.lower(), q_title.lower())\n",
    "    if partial_ratio > best_match_score:\n",
    "        best_match_score = partial_ratio\n",
    "        best_match_title = [t_id, title, partial_ratio]\n",
    "\n",
    "print(best_match_title)"
   ]
  },
  {
   "cell_type": "markdown",
   "id": "72eb3614",
   "metadata": {},
   "source": [
    "## Compare different methods of user similarities calculation\n",
    "\n",
    "Develop a custom similarity evaluation metric by checking overlapping titles in media_list"
   ]
  },
  {
   "cell_type": "code",
   "execution_count": 16,
   "id": "28945917",
   "metadata": {},
   "outputs": [],
   "source": [
    "# Get the media_list df\n",
    "df_mlist = pd.read_csv(\"../assets/media_list_all_users.csv\")"
   ]
  },
  {
   "cell_type": "code",
   "execution_count": 17,
   "id": "3b7df727",
   "metadata": {},
   "outputs": [
    {
     "data": {
      "text/plain": [
       "0.2560350993885577"
      ]
     },
     "execution_count": 17,
     "metadata": {},
     "output_type": "execute_result"
    }
   ],
   "source": [
    "# calculate similarity and similar user ids\n",
    "top_10_similar_user_ids = ubf.get_similar_users_from_user_id(start_col=1, dist_metric=\"cosine_similarity\", query_user_id=QUERY_USER_ID)\n",
    "\n",
    "# Work out the average ratio of overlapping titles\n",
    "ubf.evaluate_by_overlap_titles(top_10_similar_user_ids)"
   ]
  },
  {
   "cell_type": "code",
   "execution_count": 20,
   "id": "e73f9a2c",
   "metadata": {},
   "outputs": [
    {
     "data": {
      "text/plain": [
       "0.2307651556697182"
      ]
     },
     "execution_count": 20,
     "metadata": {},
     "output_type": "execute_result"
    }
   ],
   "source": [
    "# Calculate user similarities: Euclidean\n",
    "\n",
    "# calculate similarity and similar user ids\n",
    "# need to add ascending=True\n",
    "top_10_similar_user_ids = ubf.get_similar_users_from_user_id(start_col=1, dist_metric=\"euclidean_distances\", query_user_id=QUERY_USER_ID, ascending=True)\n",
    "\n",
    "# Work out the average ratio of overlapping titles\n",
    "ubf.evaluate_by_overlap_titles(top_10_similar_user_ids)"
   ]
  },
  {
   "cell_type": "code",
   "execution_count": 19,
   "id": "9fffd834",
   "metadata": {},
   "outputs": [
    {
     "data": {
      "text/plain": [
       "0.27521065158710084"
      ]
     },
     "execution_count": 19,
     "metadata": {},
     "output_type": "execute_result"
    }
   ],
   "source": [
    "# Calculate user similarities: Manhattan\n",
    "\n",
    "# calculate similarity and similar user ids\n",
    "top_10_similar_user_ids = ubf.get_similar_users_from_user_id(start_col=1, dist_metric=\"manhattan_distances\", query_user_id=QUERY_USER_ID, ascending=True)\n",
    "\n",
    "# Work out the average ratio of overlapping titles\n",
    "ubf.evaluate_by_overlap_titles(top_10_similar_user_ids)"
   ]
  },
  {
   "cell_type": "code",
   "execution_count": null,
   "id": "f6e0c633",
   "metadata": {},
   "outputs": [],
   "source": []
  }
 ],
 "metadata": {
  "kernelspec": {
   "display_name": "Python 3 (ipykernel)",
   "language": "python",
   "name": "python3"
  },
  "language_info": {
   "codemirror_mode": {
    "name": "ipython",
    "version": 3
   },
   "file_extension": ".py",
   "mimetype": "text/x-python",
   "name": "python",
   "nbconvert_exporter": "python",
   "pygments_lexer": "ipython3",
   "version": "3.7.12"
  }
 },
 "nbformat": 4,
 "nbformat_minor": 5
}
